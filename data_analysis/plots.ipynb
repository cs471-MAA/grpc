{
 "cells": [
  {
   "cell_type": "code",
   "execution_count": 148,
   "metadata": {},
   "outputs": [
    {
     "name": "stdout",
     "output_type": "stream",
     "text": [
      "The autoreload extension is already loaded. To reload it, use:\n",
      "  %reload_ext autoreload\n"
     ]
    }
   ],
   "source": [
    "%load_ext autoreload\n",
    "%autoreload 2\n",
    "%matplotlib widget\n",
    "\n",
    "import matplotlib.pyplot as plt\n",
    "import matplotlib as mpl\n",
    "import numpy as np\n",
    "import pandas as pd\n",
    "from plot_utils import *\n",
    "import seaborn as sns"
   ]
  },
  {
   "cell_type": "code",
   "execution_count": 149,
   "metadata": {},
   "outputs": [
    {
     "name": "stdout",
     "output_type": "stream",
     "text": [
      "0: ../container_files/P50_Wback64_Wmid16_tmid1000_smid1000_tfro100_sfro100\n",
      "1: ../container_files/default\n",
      "2: ../container_files/cluster\n",
      "3: ../container_files/cluster/default\n"
     ]
    }
   ],
   "source": [
    "experiments = [p[0] for p in os.walk(\"../container_files/\")]\n",
    "del experiments[0]\n",
    "for i, p in enumerate(experiments):\n",
    "    print(f\"{i}: {p}\")"
   ]
  },
  {
   "cell_type": "code",
   "execution_count": 150,
   "metadata": {},
   "outputs": [
    {
     "ename": "IndexError",
     "evalue": "list index out of range",
     "output_type": "error",
     "traceback": [
      "\u001b[0;31m---------------------------------------------------------------------------\u001b[0m",
      "\u001b[0;31mIndexError\u001b[0m                                Traceback (most recent call last)",
      "\u001b[0;32m<ipython-input-150-a5b4c3a837bf>\u001b[0m in \u001b[0;36m<module>\u001b[0;34m\u001b[0m\n\u001b[1;32m      1\u001b[0m \u001b[0mi\u001b[0m \u001b[0;34m=\u001b[0m \u001b[0;36m12\u001b[0m\u001b[0;34m\u001b[0m\u001b[0;34m\u001b[0m\u001b[0m\n\u001b[0;32m----> 2\u001b[0;31m \u001b[0mdata_dirpath\u001b[0m \u001b[0;34m=\u001b[0m \u001b[0mexperiments\u001b[0m\u001b[0;34m[\u001b[0m\u001b[0mi\u001b[0m\u001b[0;34m]\u001b[0m \u001b[0;34m+\u001b[0m \u001b[0;34m\"/\"\u001b[0m\u001b[0;34m\u001b[0m\u001b[0;34m\u001b[0m\u001b[0m\n\u001b[0m\u001b[1;32m      3\u001b[0m \u001b[0;34m\u001b[0m\u001b[0m\n\u001b[1;32m      4\u001b[0m \u001b[0mprint\u001b[0m\u001b[0;34m(\u001b[0m\u001b[0mdata_dirpath\u001b[0m\u001b[0;34m)\u001b[0m\u001b[0;34m\u001b[0m\u001b[0;34m\u001b[0m\u001b[0m\n\u001b[1;32m      5\u001b[0m \u001b[0;34m\u001b[0m\u001b[0m\n",
      "\u001b[0;31mIndexError\u001b[0m: list index out of range"
     ]
    }
   ],
   "source": [
    "i = 0\n",
    "data_dirpath = experiments[i] + \"/\"\n",
    "\n",
    "print(data_dirpath)\n",
    "\n",
    "sync_all = get_data(data_dirpath, async_data=False)\n",
    "sclient_uids = list(sync_all.keys())\n",
    "sdf = sync_all[sclient_uids[0]]\n",
    "\n",
    "async_all = get_data(data_dirpath, async_data=True)\n",
    "aclient_uids = list(async_all.keys())\n",
    "adf = async_all[aclient_uids[0]]\n",
    "\n",
    "# _, axs = plt.subplots(2, 1, figsize=(10,10))\n",
    "# plot_calls_cascade(sdf, ax=axs[0])\n",
    "# plot_calls_cascade(adf, ax=axs[1])\n",
    "\n",
    "compare_tail_latency(adf, sdf)\n",
    "compare_calls_cascade(adf, sdf)\n",
    "\n",
    "# new_default_figure()\n",
    "\n",
    "# ax.set_yscale('log')\n",
    "# ax.set_xscale('log')\n",
    "\n",
    "# new_default_figure()\n",
    "# plt.plot(bins)\n",
    "\n",
    "\n",
    "plt.show()"
   ]
  },
  {
   "cell_type": "code",
   "execution_count": null,
   "metadata": {},
   "outputs": [
    {
     "name": "stdout",
     "output_type": "stream",
     "text": [
      "      start_client  start_mock  end_mock  end_client\n",
      "0            0.000       6.521    56.645      57.855\n",
      "1            2.499       6.673    56.779      58.039\n",
      "2            2.624       6.845    56.971      58.079\n",
      "3            3.928       6.947    57.056      58.133\n",
      "4            4.058       7.031    57.152      61.262\n",
      "...            ...         ...       ...         ...\n",
      "2494      6735.762    6736.879  6786.995    6787.767\n",
      "2495      6735.906    6737.102  6787.213    6787.934\n",
      "2496      6743.830    6745.073  6795.201    6796.053\n",
      "2497      6747.439    6748.375  6798.481    6799.265\n",
      "2498      6748.733    6749.919  6800.038    6800.709\n",
      "\n",
      "[2499 rows x 4 columns]\n"
     ]
    }
   ],
   "source": [
    "print(df[[\"start_client\", \"start_mock\", \"end_mock\", \"end_client\"]])"
   ]
  },
  {
   "cell_type": "code",
   "execution_count": null,
   "metadata": {},
   "outputs": [],
   "source": []
  }
 ],
 "metadata": {
  "interpreter": {
   "hash": "17c6bd8c00a78b8b8bb5254dc65939a4514d795caf537bd84a850e88a26d623e"
  },
  "kernelspec": {
   "display_name": "Python 3.8.8 64-bit ('base': conda)",
   "language": "python",
   "name": "python3"
  },
  "language_info": {
   "codemirror_mode": {
    "name": "ipython",
    "version": 3
   },
   "file_extension": ".py",
   "mimetype": "text/x-python",
   "name": "python",
   "nbconvert_exporter": "python",
   "pygments_lexer": "ipython3",
   "version": "3.8.8"
  },
  "orig_nbformat": 4
 },
 "nbformat": 4,
 "nbformat_minor": 2
}
